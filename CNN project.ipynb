{
  "cells": [
    {
      "cell_type": "markdown",
      "metadata": {
        "id": "view-in-github",
        "colab_type": "text"
      },
      "source": [
        "<a href=\"https://colab.research.google.com/github/manoj99860/blessi.github.io/blob/main/CNN%20project.ipynb\" target=\"_parent\"><img src=\"https://colab.research.google.com/assets/colab-badge.svg\" alt=\"Open In Colab\"/></a>"
      ]
    },
    {
      "cell_type": "markdown",
      "metadata": {
        "id": "N4kX2MDDnzNa"
      },
      "source": [
        "Team Members:\n",
        "1.Manoj Kalal (101153172)\n",
        
      ]
    },
    {
      "cell_type": "code",
      "execution_count": null,
      "metadata": {
        "id": "UldLzIRvjLvX"
      },
      "outputs": [],
      "source": [
        "# Import required libraries\n",
        "import numpy as np\n",
        "import pandas as pd\n",
        "import matplotlib.pyplot as plt\n",
        "from tensorflow.keras.datasets import mnist\n",
        "from tensorflow.keras.models import Sequential\n",
        "from tensorflow.keras.layers import Dense, Flatten, Conv2D, MaxPooling2D\n",
        "from tensorflow.keras.utils import to_categorical\n",
        "from sklearn.model_selection import KFold\n",
        "from tensorflow.keras.layers import Activation\n",
        "from sklearn.metrics import confusion_matrix"
      ]
    },
    {
      "cell_type": "code",
      "execution_count": null,
      "metadata": {
        "colab": {
          "base_uri": "https://localhost:8080/"
        },
        "id": "JSVYMn_EjQo1",
        "outputId": "d9f5e6d7-274f-476f-b016-e6c970eb9d86"
      },
      "outputs": [
        {
          "name": "stdout",
          "output_type": "stream",
          "text": [
            "Downloading data from https://storage.googleapis.com/tensorflow/tf-keras-datasets/mnist.npz\n",
            "11490434/11490434 [==============================] - 0s 0us/step\n"
          ]
        }
      ],
      "source": [
        "# Load the MNIST dataset\n",
        "(X_train, y_train), (X_test, y_test) = mnist.load_data()"
      ]
    },
    {
      "cell_type": "code",
      "execution_count": null,
      "metadata": {
        "id": "uyGyfLEojuHE"
      },
      "outputs": [],
      "source": [
        "# Preprocess data\n",
        "X_train = X_train.reshape(X_train.shape[0], 28, 28, 1).astype('float32') / 255\n",
        "X_test = X_test.reshape(X_test.shape[0], 28, 28, 1).astype('float32') / 255\n",
        "y_train = to_categorical(y_train)\n",
        "y_test = to_categorical(y_test)"
      ]
    },
    {
      "cell_type": "code",
      "execution_count": null,
      "metadata": {
        "id": "mlvFZVaTjyuY"
      },
      "outputs": [],
      "source": [
        "# Define CNN architecture\n",
        "model = Sequential([\n",
        "    Conv2D(32, (3, 3), padding='same', input_shape=(28, 28, 1)),\n",
        "    Activation('relu'),\n",
        "    Conv2D(64, (3, 3), padding='same'),\n",
        "    Activation('relu'),\n",
        "    MaxPooling2D(pool_size=(2, 2)),\n",
        "    Conv2D(128, (3, 3), padding='same'),\n",
        "    Activation('relu'),\n",
        "    MaxPooling2D(pool_size=(2, 2)),\n",
        "    Flatten(),\n",
        "    Dense(256, activation='relu'),\n",
        "    Dense(10, activation='softmax')\n",
        "])\n"
      ]
    },
    {
      "cell_type": "code",
      "execution_count": null,
      "metadata": {
        "id": "AEGRNccTj3a0"
      },
      "outputs": [],
      "source": [
        "# Compile the model\n",
        "model.compile(optimizer='adam', loss='categorical_crossentropy', metrics=['accuracy'])"
      ]
    },
    {
      "cell_type": "code",
      "execution_count": null,
      "metadata": {
        "colab": {
          "background_save": true,
          "base_uri": "https://localhost:8080/"
        },
        "id": "LmIedeTunGbj",
        "outputId": "a9d4d5fe-2581-4a37-d00e-098013df3aab"
      },
      "outputs": [
        {
          "name": "stdout",
          "output_type": "stream",
          "text": [
            "Epoch 1/10\n",
            "1875/1875 [==============================] - 403s 214ms/step - loss: 0.0976 - accuracy: 0.9695 - val_loss: 0.0343 - val_accuracy: 0.9892\n",
            "Epoch 2/10\n",
            "1875/1875 [==============================] - 344s 184ms/step - loss: 0.0330 - accuracy: 0.9890 - val_loss: 0.0257 - val_accuracy: 0.9916\n",
            "Epoch 3/10\n",
            "1875/1875 [==============================] - 359s 192ms/step - loss: 0.0224 - accuracy: 0.9930 - val_loss: 0.0254 - val_accuracy: 0.9923\n",
            "Epoch 4/10\n",
            "1875/1875 [==============================] - 347s 185ms/step - loss: 0.0153 - accuracy: 0.9952 - val_loss: 0.0214 - val_accuracy: 0.9932\n",
            "Epoch 5/10\n",
            "1875/1875 [==============================] - 320s 171ms/step - loss: 0.0129 - accuracy: 0.9958 - val_loss: 0.0199 - val_accuracy: 0.9932\n",
            "Epoch 6/10\n",
            "1875/1875 [==============================] - 333s 178ms/step - loss: 0.0097 - accuracy: 0.9968 - val_loss: 0.0382 - val_accuracy: 0.9884\n",
            "Epoch 7/10\n",
            "1875/1875 [==============================] - 335s 178ms/step - loss: 0.0091 - accuracy: 0.9970 - val_loss: 0.0325 - val_accuracy: 0.9918\n",
            "Epoch 8/10\n",
            "1875/1875 [==============================] - 332s 177ms/step - loss: 0.0072 - accuracy: 0.9979 - val_loss: 0.0248 - val_accuracy: 0.9925\n",
            "Epoch 9/10\n",
            "1875/1875 [==============================] - 324s 173ms/step - loss: 0.0066 - accuracy: 0.9981 - val_loss: 0.0397 - val_accuracy: 0.9918\n",
            "Epoch 10/10\n",
            "1875/1875 [==============================] - 332s 177ms/step - loss: 0.0053 - accuracy: 0.9986 - val_loss: 0.0300 - val_accuracy: 0.9923\n"
          ]
        }
      ],
      "source": [
        "# Train the model\n",
        "history = model.fit(X_train, y_train, epochs=10, validation_data=(X_test, y_test))\n"
      ]
    },
    {
      "cell_type": "code",
      "execution_count": null,
      "metadata": {
        "colab": {
          "background_save": true
        },
        "id": "YzNil-xpnKe_",
        "outputId": "779c1522-f509-49b7-e554-3df6a347cc47"
      },
      "outputs": [
        {
          "name": "stdout",
          "output_type": "stream",
          "text": [
            "313/313 [==============================] - 14s 45ms/step - loss: 0.0300 - accuracy: 0.9923\n",
            "Test accuracy: 0.9923\n"
          ]
        }
      ],
      "source": [
        "# Evaluate the model\n",
        "test_loss, test_acc = model.evaluate(X_test, y_test)\n",
        "print(f'Test accuracy: {test_acc:.4f}')"
      ]
    },
    {
      "cell_type": "code",
      "execution_count": null,
      "metadata": {
        "colab": {
          "background_save": true
        },
        "id": "I__B58HFnUoL",
        "outputId": "e7d6608a-963f-4bc2-c71c-76d04eb5e588"
      },
      "outputs": [
        {
          "data": {
            "image/png": "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\n",
            "text/plain": [
              "<Figure size 640x480 with 1 Axes>"
            ]
          },
          "metadata": {},
          "output_type": "display_data"
        }
      ],
      "source": [
        "# Plot accuracy\n",
        "plt.plot(history.history['accuracy'], label='Training accuracy')\n",
        "plt.plot(history.history['val_accuracy'], label='Validation accuracy')\n",
        "plt.xlabel('Epoch')\n",
        "plt.ylabel('Accuracy')\n",
        "plt.legend()\n",
        "plt.show()"
      ]
    },
    {
      "cell_type": "code",
      "execution_count": null,
      "metadata": {
        "colab": {
          "background_save": true
        },
        "id": "WXiKnzS5nZ3L",
        "outputId": "6ef0b71c-94cd-48e0-95c4-8f3158a44310"
      },
      "outputs": [
        {
          "name": "stdout",
          "output_type": "stream",
          "text": [
            "Epoch 1/10\n",
            "1500/1500 [==============================] - 270s 180ms/step - loss: 0.0058 - accuracy: 0.9985 - val_loss: 0.0112 - val_accuracy: 0.9969\n",
            "Epoch 2/10\n",
            "1500/1500 [==============================] - 268s 178ms/step - loss: 0.0047 - accuracy: 0.9985 - val_loss: 0.0034 - val_accuracy: 0.9991\n",
            "Epoch 3/10\n",
            "1500/1500 [==============================] - 265s 177ms/step - loss: 0.0050 - accuracy: 0.9983 - val_loss: 0.0088 - val_accuracy: 0.9979\n",
            "Epoch 4/10\n",
            "1500/1500 [==============================] - 267s 178ms/step - loss: 0.0032 - accuracy: 0.9990 - val_loss: 0.0035 - val_accuracy: 0.9990\n",
            "Epoch 5/10\n",
            "1500/1500 [==============================] - 274s 183ms/step - loss: 0.0035 - accuracy: 0.9989 - val_loss: 0.0358 - val_accuracy: 0.9924\n",
            "Epoch 6/10\n",
            "1500/1500 [==============================] - 265s 177ms/step - loss: 0.0061 - accuracy: 0.9983 - val_loss: 0.0126 - val_accuracy: 0.9969\n",
            "Epoch 7/10\n",
            "  10/1500 [..............................] - ETA: 3:43 - loss: 0.0020 - accuracy: 1.0000"
          ]
        }
      ],
      "source": [
        "# K-Fold cross-validation\n",
        "kfold = KFold(n_splits=5, shuffle=True, random_state=42)\n",
        "scores = []\n",
        "\n",
        "for train_idx, val_idx in kfold.split(X_train):\n",
        "    X_train_fold, X_val_fold = X_train[train_idx], X_train[val_idx]\n",
        "    y_train_fold, y_val_fold = y_train[train_idx], y_train[val_idx]\n",
        "\n",
        "    model.fit(X_train_fold, y_train_fold, epochs=10, validation_data=(X_val_fold, y_val_fold))\n",
        "    val_loss, val_acc = model.evaluate(X_val_fold, y_val_fold)\n",
        "    scores.append(val_acc)\n",
        "\n",
        "print(f'K-Fold cross-validation accuracy: {np.mean(scores):.4f} (+/- {np.std(scores):.4f})')\n"
      ]
    },
    {
      "cell_type": "code",
      "execution_count": null,
      "metadata": {
        "id": "dN_PMiGqne7D"
      },
      "outputs": [],
      "source": [
        "# Confusion Matrix\n",
        "y_pred = model.predict(X_test)\n",
        "y_pred_classes = np.argmax(y_pred, axis=1)\n",
        "confusion_mtx = confusion_matrix(y_test.argmax(axis=1), y_pred_classes)\n",
        "print('Confusion Matrix:')\n",
        "print(confusion_mtx)"
      ]
    },
    {
      "cell_type": "code",
      "execution_count": null,
      "metadata": {
        "id": "2sqBZJcFntSc"
      },
      "outputs": [],
      "source": []
    },
    {
      "cell_type": "markdown",
      "metadata": {
        "id": "KOHQH1mdnu9m"
      },
      "source": [
        "# Documentation and Analysis\n",
        "\n",
        "# 1. CNN Architecture:\n",
        "#    The model consists of 3 convolutional layers with ReLU activation.\n",
        "#    Max pooling layers follow the 2nd and 3rd convolutional layers.\n",
        "#    The feature maps are flattened and fed into a fully connected layer with 256 neurons and ReLU activation.\n",
        "#    The output layer has 10 neurons with softmax activation for multi-class classification.\n",
        "\n",
        "# 2. Max Pooling:\n",
        "#    Max pooling is applied to downsample the feature maps while retaining the most prominent features.\n",
        "#    This reduces the computational complexity and helps capture the most relevant information.\n",
        "\n",
        "# 3. Fully Connected Layer and Softmax:\n",
        "#    The flattened feature maps are fed into a fully connected layer with 256 neurons and ReLU activation.\n",
        "#    The output layer applies softmax activation to produce class probabilities for each input digit.\n",
        "\n",
        "# 4. Training and Evaluation:\n",
        "#    The model is trained on the MNIST dataset using categorical cross-entropy loss and the Adam optimizer.\n",
        "#    The training and validation accuracy are plotted for visualization.\n",
        "#    K-Fold cross-validation is performed to evaluate the model's performance and generalization.\n",
        "#    The confusion matrix is computed to analyze the model's misclassifications.\n",
        "\n",
        "#  5. Training and Evaluation Analysis:\n",
        "#    - The model is trained for 10 epochs on the MNIST dataset, which is a reasonable number of epochs for this task.\n",
        "#    - During training, the model's performance is monitored using the categorical cross-entropy loss function.\n",
        "#    - The Adam optimizer is used for updating the model's weights during training, which is a popular and effective optimization algorithm.\n",
        "#    - The validation data (X_test, y_test) is used to evaluate the model's performance after each epoch during training.\n",
        "#    - The training and validation accuracy are plotted to visualize the model's learning curve.\n",
        "#    - K-Fold cross-validation with 5 folds is performed to assess the model's generalization performance.\n",
        "#    - The mean and standard deviation of the K-Fold cross-validation accuracy are reported.\n",
        "#    - The confusion matrix is computed to analyze the model's misclassifications on the test data.\n",
        "#    - The confusion matrix provides insights into which classes the model struggles with and which classes are easily distinguishable.\n",
        "#    - Based on the analysis of the training process, evaluation metrics, and confusion matrix, the model's performance can be interpreted, and potential areas for improvement can be identified."
      ]
    }
  ],
  "metadata": {
    "colab": {
      "provenance": [],
      "authorship_tag": "ABX9TyPnkFWJBwhGrrRAHtV2uP+L",
      "include_colab_link": true
    },
    "kernelspec": {
      "display_name": "Python 3",
      "name": "python3"
    },
    "language_info": {
      "name": "python"
    }
  },
  "nbformat": 4,
  "nbformat_minor": 0
}
